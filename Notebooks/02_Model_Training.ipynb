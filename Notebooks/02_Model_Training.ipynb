{
 "cells": [
  {
   "cell_type": "markdown",
   "id": "77d7ffdf",
   "metadata": {},
   "source": [
    "#### **Model Training**"
   ]
  },
  {
   "cell_type": "code",
   "execution_count": 253,
   "id": "45979831",
   "metadata": {},
   "outputs": [],
   "source": [
    "#importing necessary libraries\n",
    "import numpy as np\n",
    "import pandas as pd \n",
    "import statsmodels.api as sm\n",
    "import seaborn as sns\n",
    "import matplotlib.pyplot as plt\n",
    "from sklearn.preprocessing import StandardScaler\n",
    "from sklearn.model_selection import train_test_split, GridSearchCV\n",
    "from sklearn.model_selection import cross_val_score\n",
    "from sklearn.metrics import confusion_matrix, accuracy_score,precision_score, recall_score\n",
    "from sklearn.linear_model import LogisticRegression\n",
    "from sklearn.neighbors import KNeighborsClassifier\n",
    "from sklearn.svm import SVC\n",
    "from sklearn.tree import DecisionTreeClassifier\n",
    "from sklearn.ensemble import RandomForestClassifier\n",
    "import warnings\n",
    "warnings.simplefilter(action = \"ignore\") "
   ]
  },
  {
   "cell_type": "code",
   "execution_count": 254,
   "id": "6c8cd540",
   "metadata": {},
   "outputs": [],
   "source": [
    "#reading csv file\n",
    "df = pd.read_csv(\"../Datasets/diabetes_processed_data.csv\")"
   ]
  },
  {
   "cell_type": "code",
   "execution_count": 255,
   "id": "0efd5e1c",
   "metadata": {},
   "outputs": [
    {
     "data": {
      "text/html": [
       "<div>\n",
       "<style scoped>\n",
       "    .dataframe tbody tr th:only-of-type {\n",
       "        vertical-align: middle;\n",
       "    }\n",
       "\n",
       "    .dataframe tbody tr th {\n",
       "        vertical-align: top;\n",
       "    }\n",
       "\n",
       "    .dataframe thead th {\n",
       "        text-align: right;\n",
       "    }\n",
       "</style>\n",
       "<table border=\"1\" class=\"dataframe\">\n",
       "  <thead>\n",
       "    <tr style=\"text-align: right;\">\n",
       "      <th></th>\n",
       "      <th>Pregnancies</th>\n",
       "      <th>BloodPressure</th>\n",
       "      <th>SkinThickness</th>\n",
       "      <th>Insulin</th>\n",
       "      <th>DiabetesPedigreeFunction</th>\n",
       "      <th>Age</th>\n",
       "      <th>Outcome</th>\n",
       "      <th>NewBMI_Obesity 1</th>\n",
       "      <th>NewBMI_Obesity 2</th>\n",
       "      <th>NewBMI_Obesity 3</th>\n",
       "      <th>NewBMI_Overweight</th>\n",
       "      <th>NewBMI_Underweight</th>\n",
       "      <th>NewGlucose_Normal</th>\n",
       "      <th>NewGlucose_Overweight</th>\n",
       "      <th>NewGlucose_Secret</th>\n",
       "    </tr>\n",
       "  </thead>\n",
       "  <tbody>\n",
       "    <tr>\n",
       "      <th>0</th>\n",
       "      <td>6.0</td>\n",
       "      <td>72.0</td>\n",
       "      <td>35.0</td>\n",
       "      <td>0.0</td>\n",
       "      <td>0.627</td>\n",
       "      <td>50</td>\n",
       "      <td>1</td>\n",
       "      <td>1.0</td>\n",
       "      <td>0.0</td>\n",
       "      <td>0.0</td>\n",
       "      <td>0.0</td>\n",
       "      <td>0.0</td>\n",
       "      <td>0.0</td>\n",
       "      <td>0.0</td>\n",
       "      <td>1.0</td>\n",
       "    </tr>\n",
       "    <tr>\n",
       "      <th>1</th>\n",
       "      <td>1.0</td>\n",
       "      <td>66.0</td>\n",
       "      <td>29.0</td>\n",
       "      <td>0.0</td>\n",
       "      <td>0.351</td>\n",
       "      <td>31</td>\n",
       "      <td>0</td>\n",
       "      <td>0.0</td>\n",
       "      <td>0.0</td>\n",
       "      <td>0.0</td>\n",
       "      <td>1.0</td>\n",
       "      <td>0.0</td>\n",
       "      <td>1.0</td>\n",
       "      <td>0.0</td>\n",
       "      <td>0.0</td>\n",
       "    </tr>\n",
       "    <tr>\n",
       "      <th>2</th>\n",
       "      <td>8.0</td>\n",
       "      <td>64.0</td>\n",
       "      <td>0.0</td>\n",
       "      <td>0.0</td>\n",
       "      <td>0.672</td>\n",
       "      <td>32</td>\n",
       "      <td>1</td>\n",
       "      <td>0.0</td>\n",
       "      <td>0.0</td>\n",
       "      <td>0.0</td>\n",
       "      <td>0.0</td>\n",
       "      <td>0.0</td>\n",
       "      <td>0.0</td>\n",
       "      <td>0.0</td>\n",
       "      <td>1.0</td>\n",
       "    </tr>\n",
       "    <tr>\n",
       "      <th>3</th>\n",
       "      <td>1.0</td>\n",
       "      <td>66.0</td>\n",
       "      <td>23.0</td>\n",
       "      <td>94.0</td>\n",
       "      <td>0.167</td>\n",
       "      <td>21</td>\n",
       "      <td>0</td>\n",
       "      <td>0.0</td>\n",
       "      <td>0.0</td>\n",
       "      <td>0.0</td>\n",
       "      <td>1.0</td>\n",
       "      <td>0.0</td>\n",
       "      <td>1.0</td>\n",
       "      <td>0.0</td>\n",
       "      <td>0.0</td>\n",
       "    </tr>\n",
       "    <tr>\n",
       "      <th>4</th>\n",
       "      <td>0.0</td>\n",
       "      <td>40.0</td>\n",
       "      <td>35.0</td>\n",
       "      <td>168.0</td>\n",
       "      <td>1.200</td>\n",
       "      <td>33</td>\n",
       "      <td>1</td>\n",
       "      <td>0.0</td>\n",
       "      <td>0.0</td>\n",
       "      <td>1.0</td>\n",
       "      <td>0.0</td>\n",
       "      <td>0.0</td>\n",
       "      <td>0.0</td>\n",
       "      <td>0.0</td>\n",
       "      <td>1.0</td>\n",
       "    </tr>\n",
       "  </tbody>\n",
       "</table>\n",
       "</div>"
      ],
      "text/plain": [
       "   Pregnancies  BloodPressure  SkinThickness  Insulin  \\\n",
       "0          6.0           72.0           35.0      0.0   \n",
       "1          1.0           66.0           29.0      0.0   \n",
       "2          8.0           64.0            0.0      0.0   \n",
       "3          1.0           66.0           23.0     94.0   \n",
       "4          0.0           40.0           35.0    168.0   \n",
       "\n",
       "   DiabetesPedigreeFunction  Age  Outcome  NewBMI_Obesity 1  NewBMI_Obesity 2  \\\n",
       "0                     0.627   50        1               1.0               0.0   \n",
       "1                     0.351   31        0               0.0               0.0   \n",
       "2                     0.672   32        1               0.0               0.0   \n",
       "3                     0.167   21        0               0.0               0.0   \n",
       "4                     1.200   33        1               0.0               0.0   \n",
       "\n",
       "   NewBMI_Obesity 3  NewBMI_Overweight  NewBMI_Underweight  NewGlucose_Normal  \\\n",
       "0               0.0                0.0                 0.0                0.0   \n",
       "1               0.0                1.0                 0.0                1.0   \n",
       "2               0.0                0.0                 0.0                0.0   \n",
       "3               0.0                1.0                 0.0                1.0   \n",
       "4               1.0                0.0                 0.0                0.0   \n",
       "\n",
       "   NewGlucose_Overweight  NewGlucose_Secret  \n",
       "0                    0.0                1.0  \n",
       "1                    0.0                0.0  \n",
       "2                    0.0                1.0  \n",
       "3                    0.0                0.0  \n",
       "4                    0.0                1.0  "
      ]
     },
     "execution_count": 255,
     "metadata": {},
     "output_type": "execute_result"
    }
   ],
   "source": [
    "df.head()"
   ]
  },
  {
   "cell_type": "markdown",
   "id": "57c1857f",
   "metadata": {},
   "source": [
    "Dependent and Independent Features"
   ]
  },
  {
   "cell_type": "code",
   "execution_count": 256,
   "id": "13522714",
   "metadata": {},
   "outputs": [],
   "source": [
    "X = df.drop(\"Outcome\", axis=1)\n",
    "y = df[\"Outcome\"]"
   ]
  },
  {
   "cell_type": "code",
   "execution_count": 257,
   "id": "37706ea1",
   "metadata": {},
   "outputs": [
    {
     "data": {
      "text/html": [
       "<div>\n",
       "<style scoped>\n",
       "    .dataframe tbody tr th:only-of-type {\n",
       "        vertical-align: middle;\n",
       "    }\n",
       "\n",
       "    .dataframe tbody tr th {\n",
       "        vertical-align: top;\n",
       "    }\n",
       "\n",
       "    .dataframe thead th {\n",
       "        text-align: right;\n",
       "    }\n",
       "</style>\n",
       "<table border=\"1\" class=\"dataframe\">\n",
       "  <thead>\n",
       "    <tr style=\"text-align: right;\">\n",
       "      <th></th>\n",
       "      <th>Pregnancies</th>\n",
       "      <th>BloodPressure</th>\n",
       "      <th>SkinThickness</th>\n",
       "      <th>Insulin</th>\n",
       "      <th>DiabetesPedigreeFunction</th>\n",
       "      <th>Age</th>\n",
       "      <th>NewBMI_Obesity 1</th>\n",
       "      <th>NewBMI_Obesity 2</th>\n",
       "      <th>NewBMI_Obesity 3</th>\n",
       "      <th>NewBMI_Overweight</th>\n",
       "      <th>NewBMI_Underweight</th>\n",
       "      <th>NewGlucose_Normal</th>\n",
       "      <th>NewGlucose_Overweight</th>\n",
       "      <th>NewGlucose_Secret</th>\n",
       "    </tr>\n",
       "  </thead>\n",
       "  <tbody>\n",
       "    <tr>\n",
       "      <th>0</th>\n",
       "      <td>6.0</td>\n",
       "      <td>72.0</td>\n",
       "      <td>35.0</td>\n",
       "      <td>0.0</td>\n",
       "      <td>0.627</td>\n",
       "      <td>50</td>\n",
       "      <td>1.0</td>\n",
       "      <td>0.0</td>\n",
       "      <td>0.0</td>\n",
       "      <td>0.0</td>\n",
       "      <td>0.0</td>\n",
       "      <td>0.0</td>\n",
       "      <td>0.0</td>\n",
       "      <td>1.0</td>\n",
       "    </tr>\n",
       "    <tr>\n",
       "      <th>1</th>\n",
       "      <td>1.0</td>\n",
       "      <td>66.0</td>\n",
       "      <td>29.0</td>\n",
       "      <td>0.0</td>\n",
       "      <td>0.351</td>\n",
       "      <td>31</td>\n",
       "      <td>0.0</td>\n",
       "      <td>0.0</td>\n",
       "      <td>0.0</td>\n",
       "      <td>1.0</td>\n",
       "      <td>0.0</td>\n",
       "      <td>1.0</td>\n",
       "      <td>0.0</td>\n",
       "      <td>0.0</td>\n",
       "    </tr>\n",
       "    <tr>\n",
       "      <th>2</th>\n",
       "      <td>8.0</td>\n",
       "      <td>64.0</td>\n",
       "      <td>0.0</td>\n",
       "      <td>0.0</td>\n",
       "      <td>0.672</td>\n",
       "      <td>32</td>\n",
       "      <td>0.0</td>\n",
       "      <td>0.0</td>\n",
       "      <td>0.0</td>\n",
       "      <td>0.0</td>\n",
       "      <td>0.0</td>\n",
       "      <td>0.0</td>\n",
       "      <td>0.0</td>\n",
       "      <td>1.0</td>\n",
       "    </tr>\n",
       "    <tr>\n",
       "      <th>3</th>\n",
       "      <td>1.0</td>\n",
       "      <td>66.0</td>\n",
       "      <td>23.0</td>\n",
       "      <td>94.0</td>\n",
       "      <td>0.167</td>\n",
       "      <td>21</td>\n",
       "      <td>0.0</td>\n",
       "      <td>0.0</td>\n",
       "      <td>0.0</td>\n",
       "      <td>1.0</td>\n",
       "      <td>0.0</td>\n",
       "      <td>1.0</td>\n",
       "      <td>0.0</td>\n",
       "      <td>0.0</td>\n",
       "    </tr>\n",
       "    <tr>\n",
       "      <th>4</th>\n",
       "      <td>0.0</td>\n",
       "      <td>40.0</td>\n",
       "      <td>35.0</td>\n",
       "      <td>168.0</td>\n",
       "      <td>1.200</td>\n",
       "      <td>33</td>\n",
       "      <td>0.0</td>\n",
       "      <td>0.0</td>\n",
       "      <td>1.0</td>\n",
       "      <td>0.0</td>\n",
       "      <td>0.0</td>\n",
       "      <td>0.0</td>\n",
       "      <td>0.0</td>\n",
       "      <td>1.0</td>\n",
       "    </tr>\n",
       "  </tbody>\n",
       "</table>\n",
       "</div>"
      ],
      "text/plain": [
       "   Pregnancies  BloodPressure  SkinThickness  Insulin  \\\n",
       "0          6.0           72.0           35.0      0.0   \n",
       "1          1.0           66.0           29.0      0.0   \n",
       "2          8.0           64.0            0.0      0.0   \n",
       "3          1.0           66.0           23.0     94.0   \n",
       "4          0.0           40.0           35.0    168.0   \n",
       "\n",
       "   DiabetesPedigreeFunction  Age  NewBMI_Obesity 1  NewBMI_Obesity 2  \\\n",
       "0                     0.627   50               1.0               0.0   \n",
       "1                     0.351   31               0.0               0.0   \n",
       "2                     0.672   32               0.0               0.0   \n",
       "3                     0.167   21               0.0               0.0   \n",
       "4                     1.200   33               0.0               0.0   \n",
       "\n",
       "   NewBMI_Obesity 3  NewBMI_Overweight  NewBMI_Underweight  NewGlucose_Normal  \\\n",
       "0               0.0                0.0                 0.0                0.0   \n",
       "1               0.0                1.0                 0.0                1.0   \n",
       "2               0.0                0.0                 0.0                0.0   \n",
       "3               0.0                1.0                 0.0                1.0   \n",
       "4               1.0                0.0                 0.0                0.0   \n",
       "\n",
       "   NewGlucose_Overweight  NewGlucose_Secret  \n",
       "0                    0.0                1.0  \n",
       "1                    0.0                0.0  \n",
       "2                    0.0                1.0  \n",
       "3                    0.0                0.0  \n",
       "4                    0.0                1.0  "
      ]
     },
     "execution_count": 257,
     "metadata": {},
     "output_type": "execute_result"
    }
   ],
   "source": [
    "X.head()"
   ]
  },
  {
   "cell_type": "code",
   "execution_count": 258,
   "id": "e120f643",
   "metadata": {},
   "outputs": [
    {
     "data": {
      "text/plain": [
       "0    1\n",
       "1    0\n",
       "2    1\n",
       "3    0\n",
       "4    1\n",
       "Name: Outcome, dtype: int64"
      ]
     },
     "execution_count": 258,
     "metadata": {},
     "output_type": "execute_result"
    }
   ],
   "source": [
    "y.head()"
   ]
  },
  {
   "cell_type": "code",
   "execution_count": 259,
   "id": "f1e4450c",
   "metadata": {},
   "outputs": [
    {
     "data": {
      "text/plain": [
       "((768, 14), (768,))"
      ]
     },
     "execution_count": 259,
     "metadata": {},
     "output_type": "execute_result"
    }
   ],
   "source": [
    "X.shape, y.shape"
   ]
  },
  {
   "cell_type": "markdown",
   "id": "87e41887",
   "metadata": {},
   "source": [
    "Train Test Split"
   ]
  },
  {
   "cell_type": "code",
   "execution_count": 260,
   "id": "3f57b2f2",
   "metadata": {},
   "outputs": [],
   "source": [
    "X_train, X_test, y_train, y_test = train_test_split(X, y, random_state=42, test_size=0.2)"
   ]
  },
  {
   "cell_type": "code",
   "execution_count": 261,
   "id": "6fe4fc56",
   "metadata": {},
   "outputs": [
    {
     "data": {
      "text/plain": [
       "((614, 14), (154, 14), (614,), (154,))"
      ]
     },
     "execution_count": 261,
     "metadata": {},
     "output_type": "execute_result"
    }
   ],
   "source": [
    "X_train.shape, X_test.shape, y_train.shape, y_test.shape"
   ]
  },
  {
   "cell_type": "markdown",
   "id": "1549170b",
   "metadata": {},
   "source": [
    "**Feature Scaling Or Standardization**"
   ]
  },
  {
   "cell_type": "code",
   "execution_count": 262,
   "id": "9a808ee5",
   "metadata": {},
   "outputs": [],
   "source": [
    "scaler=StandardScaler()\n",
    "X_train=scaler.fit_transform(X_train)\n",
    "X_test=scaler.transform(X_test)"
   ]
  },
  {
   "cell_type": "code",
   "execution_count": 263,
   "id": "374cf25d",
   "metadata": {},
   "outputs": [],
   "source": [
    "def evaluate_model(true, predicted):\n",
    "    accuracy = accuracy_score(true, predicted)\n",
    "    recall = recall_score(true, predicted, average=\"weighted\")\n",
    "    precision = precision_score(true, predicted, average=\"weighted\")\n",
    "    cm = confusion_matrix(true, predicted)\n",
    "    return accuracy,precision, recall, cm"
   ]
  },
  {
   "cell_type": "code",
   "execution_count": 264,
   "id": "d8db78df",
   "metadata": {},
   "outputs": [
    {
     "name": "stdout",
     "output_type": "stream",
     "text": [
      "Logistic Classifier\n",
      "Model performance for Training set\n",
      "- Accuracy Score: 0.7704\n",
      "- Precision Score: 0.7660\n",
      "- Recall Score: 0.7704\n",
      "- Confusion Matrix: [[342  59]\n",
      " [ 82 131]]\n",
      "----------------------------------\n",
      "Model performance for Test set\n",
      "- Accuracy Score: 0.7338\n",
      "- Precision Score: 0.7373\n",
      "- Recall Score: 0.7338\n",
      "- Confusion Matrix: [[77 22]\n",
      " [19 36]]\n",
      "===================================\n",
      "\n",
      "\n",
      "K-Neighbors Classifier\n",
      "Model performance for Training set\n",
      "- Accuracy Score: 0.8241\n",
      "- Precision Score: 0.8221\n",
      "- Recall Score: 0.8241\n",
      "- Confusion Matrix: [[354  47]\n",
      " [ 61 152]]\n",
      "----------------------------------\n",
      "Model performance for Test set\n",
      "- Accuracy Score: 0.7468\n",
      "- Precision Score: 0.7440\n",
      "- Recall Score: 0.7468\n",
      "- Confusion Matrix: [[81 18]\n",
      " [21 34]]\n",
      "===================================\n",
      "\n",
      "\n",
      "Decision Tree Classifier\n",
      "Model performance for Training set\n",
      "- Accuracy Score: 1.0000\n",
      "- Precision Score: 1.0000\n",
      "- Recall Score: 1.0000\n",
      "- Confusion Matrix: [[401   0]\n",
      " [  0 213]]\n",
      "----------------------------------\n",
      "Model performance for Test set\n",
      "- Accuracy Score: 0.7078\n",
      "- Precision Score: 0.7090\n",
      "- Recall Score: 0.7078\n",
      "- Confusion Matrix: [[76 23]\n",
      " [22 33]]\n",
      "===================================\n",
      "\n",
      "\n",
      "Random Forest Classifier\n",
      "Model performance for Training set\n",
      "- Accuracy Score: 1.0000\n",
      "- Precision Score: 1.0000\n",
      "- Recall Score: 1.0000\n",
      "- Confusion Matrix: [[401   0]\n",
      " [  0 213]]\n",
      "----------------------------------\n",
      "Model performance for Test set\n",
      "- Accuracy Score: 0.7792\n",
      "- Precision Score: 0.7755\n",
      "- Recall Score: 0.7792\n",
      "- Confusion Matrix: [[85 14]\n",
      " [20 35]]\n",
      "===================================\n",
      "\n",
      "\n",
      "Support Vector Classifier\n",
      "Model performance for Training set\n",
      "- Accuracy Score: 0.8176\n",
      "- Precision Score: 0.8147\n",
      "- Recall Score: 0.8176\n",
      "- Confusion Matrix: [[357  44]\n",
      " [ 68 145]]\n",
      "----------------------------------\n",
      "Model performance for Test set\n",
      "- Accuracy Score: 0.7597\n",
      "- Precision Score: 0.7559\n",
      "- Recall Score: 0.7597\n",
      "- Confusion Matrix: [[83 16]\n",
      " [21 34]]\n",
      "===================================\n",
      "\n",
      "\n"
     ]
    }
   ],
   "source": [
    "models = {\n",
    "    \"Logistic Classifier\": LogisticRegression(),\n",
    "    \"K-Neighbors Classifier\": KNeighborsClassifier(),\n",
    "    \"Decision Tree Classifier\": DecisionTreeClassifier(),\n",
    "    \"Random Forest Classifier\": RandomForestClassifier(),\n",
    "    \"Support Vector Classifier\": SVC()\n",
    "}\n",
    "model_list = []\n",
    "accuracy_list =[]\n",
    "\n",
    "for i in range(len(list(models))):\n",
    "    model = list(models.values())[i]\n",
    "    model.fit(X_train, y_train) # Train model\n",
    "\n",
    "    # Make predictions\n",
    "    y_train_pred = model.predict(X_train)\n",
    "    y_test_pred = model.predict(X_test)\n",
    "    \n",
    "    # Evaluate Train and Test dataset\n",
    "    model_train_accuracy , model_train_precision, model_train_recall, model_train_cm = evaluate_model(y_train, y_train_pred)\n",
    "\n",
    "    model_test_accuracy , model_test_precision, model_test_recall, model_test_cm = evaluate_model(y_test, y_test_pred)\n",
    "\n",
    "    \n",
    "    print(list(models.keys())[i])\n",
    "    model_list.append(list(models.keys())[i])\n",
    "    \n",
    "    print('Model performance for Training set')\n",
    "    print(\"- Accuracy Score: {:.4f}\".format(model_train_accuracy))\n",
    "    print(\"- Precision Score: {:.4f}\".format(model_train_precision))\n",
    "    print(\"- Recall Score: {:.4f}\".format(model_train_recall))\n",
    "    print(\"- Confusion Matrix:\",(model_train_cm))\n",
    "\n",
    "    print('----------------------------------')\n",
    "    \n",
    "    print('Model performance for Test set')\n",
    "    print(\"- Accuracy Score: {:.4f}\".format(model_test_accuracy))\n",
    "    print(\"- Precision Score: {:.4f}\".format(model_test_precision))\n",
    "    print(\"- Recall Score: {:.4f}\".format(model_test_recall))\n",
    "    print(\"- Confusion Matrix:\",(model_test_cm))\n",
    "    accuracy_list.append(model_test_accuracy)\n",
    "\n",
    "    print('='*35)\n",
    "    print('\\n')"
   ]
  },
  {
   "cell_type": "code",
   "execution_count": 265,
   "id": "ddccb407",
   "metadata": {},
   "outputs": [
    {
     "name": "stdout",
     "output_type": "stream",
     "text": [
      "Logistic Classifier 0.7337662337662337\n",
      "K-Neighbors Classifier 0.7467532467532467\n",
      "Decision Tree Classifier 0.7077922077922078\n",
      "Random Forest Classifier 0.7792207792207793\n",
      "Support Vector Classifier 0.7597402597402597\n"
     ]
    }
   ],
   "source": [
    "for i in range(len(model_list)):\n",
    "    print(model_list[i], accuracy_list[i])"
   ]
  },
  {
   "cell_type": "markdown",
   "id": "75cdcc48",
   "metadata": {},
   "source": [
    "**Hyperparameter Tuning**"
   ]
  },
  {
   "cell_type": "markdown",
   "id": "f38b1f9f",
   "metadata": {},
   "source": [
    "Logistic Regression"
   ]
  },
  {
   "cell_type": "code",
   "execution_count": 266,
   "id": "2bd65fe2",
   "metadata": {},
   "outputs": [
    {
     "name": "stdout",
     "output_type": "stream",
     "text": [
      "Fitting 5 folds for each of 60 candidates, totalling 300 fits\n",
      "Best Params: {'C': 0.1, 'penalty': 'l1', 'solver': 'saga'}\n",
      "Best Score: 0.7655071304811408\n",
      "Accuracy Score: 0.7467532467532467\n"
     ]
    }
   ],
   "source": [
    "params_log = {\n",
    "        \"penalty\" : [\"l1\", \"l2\", \"elasticnet\"],\n",
    "        'C': [0.01, 0.1, 1, 10, 100],\n",
    "        'solver': ['liblinear', 'lbfgs', \"sag\", \"saga\"]\n",
    "    }\n",
    "grid_log = GridSearchCV(estimator=LogisticRegression(),\n",
    "                    param_grid=params_log,\n",
    "                    n_jobs=-1,\n",
    "                    scoring=\"accuracy\",\n",
    "                    verbose=2)\n",
    "grid_log.fit(X_train, y_train)\n",
    "best_params = grid_log.best_params_\n",
    "best_score = grid_log.best_score_\n",
    "y_pred_log = grid_log.predict(X_test)\n",
    "score = accuracy_score(y_test, y_pred_log)\n",
    "\n",
    "print(\"Best Params:\", best_params)\n",
    "print(\"Best Score:\", best_score)\n",
    "print(\"Accuracy Score:\", score)"
   ]
  },
  {
   "cell_type": "markdown",
   "id": "b77ab8b7",
   "metadata": {},
   "source": [
    "K-Neighbors Classifier"
   ]
  },
  {
   "cell_type": "code",
   "execution_count": 267,
   "id": "1c5d1c08",
   "metadata": {},
   "outputs": [
    {
     "name": "stdout",
     "output_type": "stream",
     "text": [
      "Fitting 5 folds for each of 60 candidates, totalling 300 fits\n",
      "Best Params for KNN: {'algorithm': 'auto', 'metric': 'euclidean', 'n_neighbors': 11, 'weights': 'uniform'}\n",
      "Best CV Score: 0.7720111955217913\n",
      "Test Accuracy: 0.7662337662337663\n"
     ]
    }
   ],
   "source": [
    "# Define the parameter grid\n",
    "param_knn = {\n",
    "    'n_neighbors': [3, 5, 7, 9, 11],\n",
    "    'weights': ['uniform', 'distance'],\n",
    "    'metric': ['euclidean', 'manhattan'], \n",
    "    \"algorithm\" : [\"auto\", \"ball_tree\", \"kd_tree\"]\n",
    "}\n",
    "\n",
    "grid_knn = GridSearchCV(\n",
    "    estimator=KNeighborsClassifier(),\n",
    "    param_grid=param_knn,\n",
    "    cv=5,\n",
    "    scoring='accuracy',\n",
    "    n_jobs=-1,\n",
    "    verbose=2\n",
    ")\n",
    "\n",
    "grid_knn.fit(X_train, y_train)\n",
    "best_knn = grid_knn.best_estimator_\n",
    "\n",
    "print(\"Best Params for KNN:\", grid_knn.best_params_)\n",
    "print(\"Best CV Score:\", grid_knn.best_score_)\n",
    "\n",
    "y_pred_knn = best_knn.predict(X_test)\n",
    "score = accuracy_score(y_test, y_pred_knn)\n",
    "print(\"Test Accuracy:\", score)"
   ]
  },
  {
   "cell_type": "markdown",
   "id": "f6f243e7",
   "metadata": {},
   "source": [
    "Decision Tree Classifier"
   ]
  },
  {
   "cell_type": "code",
   "execution_count": 268,
   "id": "677ce30c",
   "metadata": {},
   "outputs": [
    {
     "name": "stdout",
     "output_type": "stream",
     "text": [
      "Fitting 5 folds for each of 135 candidates, totalling 675 fits\n",
      "Best Params for Decision Tree: {'criterion': 'entropy', 'max_depth': 5, 'min_samples_leaf': 4, 'min_samples_split': 10}\n",
      "Best CV Score: 0.732906837265094\n",
      "Test Accuracy: 0.7532467532467533\n"
     ]
    }
   ],
   "source": [
    "param_dt = {\n",
    "    'criterion': ['gini', 'entropy', 'log_loss'],\n",
    "    'max_depth': [None, 5, 10, 20, 30],\n",
    "    'min_samples_split': [2, 5, 10],\n",
    "    'min_samples_leaf': [1, 2, 4]\n",
    "}\n",
    "\n",
    "grid_dt = GridSearchCV(\n",
    "    estimator=DecisionTreeClassifier(random_state=42),\n",
    "    param_grid=param_dt,\n",
    "    cv=5,\n",
    "    scoring='accuracy',\n",
    "    n_jobs=-1,\n",
    "    verbose=2\n",
    ")\n",
    "\n",
    "grid_dt.fit(X_train, y_train)\n",
    "best_dt = grid_dt.best_estimator_\n",
    "\n",
    "print(\"Best Params for Decision Tree:\", grid_dt.best_params_)\n",
    "print(\"Best CV Score:\", grid_dt.best_score_)\n",
    "\n",
    "y_pred_dt = best_dt.predict(X_test)\n",
    "score = accuracy_score(y_test, y_pred_dt)\n",
    "print(\"Test Accuracy:\", score)"
   ]
  },
  {
   "cell_type": "markdown",
   "id": "d45259f8",
   "metadata": {},
   "source": [
    "Random Forest"
   ]
  },
  {
   "cell_type": "code",
   "execution_count": 269,
   "id": "3f2dfe67",
   "metadata": {},
   "outputs": [
    {
     "name": "stdout",
     "output_type": "stream",
     "text": [
      "Fitting 5 folds for each of 648 candidates, totalling 3240 fits\n",
      "Best Params for Random Forest: {'bootstrap': False, 'criterion': 'gini', 'max_depth': 10, 'min_samples_leaf': 1, 'min_samples_split': 5, 'n_estimators': 100}\n",
      "Best CV Score: 0.7687458349993337\n",
      "Test Accuracy: 0.7467532467532467\n"
     ]
    }
   ],
   "source": [
    "param_rf = {\n",
    "    'n_estimators': [50, 100, 200],\n",
    "    'criterion': ['gini', 'entropy', 'log_loss'],\n",
    "    'max_depth': [None, 10, 20, 30],\n",
    "    'min_samples_split': [2, 5, 10],\n",
    "    'min_samples_leaf': [1, 2, 4],\n",
    "    'bootstrap': [True, False]\n",
    "}\n",
    "\n",
    "grid_rf = GridSearchCV(\n",
    "    estimator=RandomForestClassifier(random_state=42),\n",
    "    param_grid=param_rf,\n",
    "    cv=5,\n",
    "    scoring='accuracy',\n",
    "    n_jobs=-1,\n",
    "    verbose=2\n",
    ")\n",
    "\n",
    "grid_rf.fit(X_train, y_train)\n",
    "best_rf = grid_rf.best_estimator_\n",
    "\n",
    "print(\"Best Params for Random Forest:\", grid_rf.best_params_)\n",
    "print(\"Best CV Score:\", grid_rf.best_score_)\n",
    "\n",
    "y_pred_rf = best_rf.predict(X_test)\n",
    "score = accuracy_score(y_test, y_pred_rf)\n",
    "print(\"Test Accuracy:\", score)\n"
   ]
  },
  {
   "cell_type": "code",
   "execution_count": 270,
   "id": "8a766e15",
   "metadata": {},
   "outputs": [
    {
     "name": "stdout",
     "output_type": "stream",
     "text": [
      "Fitting 5 folds for each of 24 candidates, totalling 120 fits\n",
      "Best Params for SVC: {'C': 1, 'gamma': 'scale', 'kernel': 'rbf'}\n",
      "Best CV Score: 0.7622684259629482\n",
      "Test Accuracy: 0.7467532467532467\n"
     ]
    }
   ],
   "source": [
    "# Define parameter grid for SVC\n",
    "param_svc = {\n",
    "    'C': [0.1, 1, 10, 100],        # Regularization strength\n",
    "    'kernel': ['linear', 'rbf', 'poly'],  # Kernel types\n",
    "    'gamma': ['scale', 'auto']     # Kernel coefficient\n",
    "}\n",
    "\n",
    "# Initialize the SVC model\n",
    "svc = SVC(random_state=42)\n",
    "\n",
    "# Initialize GridSearchCV\n",
    "grid_svc = GridSearchCV(\n",
    "    estimator=svc,\n",
    "    param_grid=param_svc,\n",
    "    cv=5,\n",
    "    scoring='accuracy',\n",
    "    n_jobs=-1,\n",
    "    verbose=2\n",
    ")\n",
    "\n",
    "# Fit on the training data (already scaled)\n",
    "grid_svc.fit(X_train, y_train)\n",
    "best_svc = grid_svc.best_estimator_\n",
    "\n",
    "print(\"Best Params for SVC:\", grid_svc.best_params_)\n",
    "print(\"Best CV Score:\", grid_svc.best_score_)\n",
    "\n",
    "y_pred_svc = best_rf.predict(X_test)\n",
    "score = accuracy_score(y_test, y_pred_svc)\n",
    "print(\"Test Accuracy:\", score)"
   ]
  },
  {
   "cell_type": "code",
   "execution_count": 272,
   "id": "98f84871",
   "metadata": {},
   "outputs": [
    {
     "name": "stdout",
     "output_type": "stream",
     "text": [
      "KNN             - > Test Accuracy: 0.7662\n",
      "Decision Tree   - > Test Accuracy: 0.7532\n",
      "Random Forest   - > Test Accuracy: 0.7468\n",
      "SVC             - > Test Accuracy: 0.7597\n"
     ]
    }
   ],
   "source": [
    "models = {\n",
    "    \"KNN\": best_knn,\n",
    "    \"Decision Tree\": best_dt,\n",
    "    \"Random Forest\": best_rf,\n",
    "    \"SVC\": best_svc\n",
    "}\n",
    "\n",
    "for name, model in models.items():\n",
    "    y_pred = model.predict(X_test)\n",
    "    acc = accuracy_score(y_test, y_pred)\n",
    "    print(f\"{name:15s} - > Test Accuracy: {acc:.4f}\")\n"
   ]
  },
  {
   "cell_type": "markdown",
   "id": "9d1dc1a2",
   "metadata": {},
   "source": [
    "##### **Best Model**"
   ]
  },
  {
   "cell_type": "markdown",
   "id": "b4606f50",
   "metadata": {},
   "source": [
    "with I conclude that KNN as best model and I am using this model to save into a pickel file and will be used for further development"
   ]
  },
  {
   "cell_type": "markdown",
   "id": "391616e0",
   "metadata": {},
   "source": [
    "**Pickeling**"
   ]
  },
  {
   "cell_type": "code",
   "execution_count": 273,
   "id": "ec15d6af",
   "metadata": {},
   "outputs": [],
   "source": [
    "import pickle\n",
    "with open(\"scaler.pkl\", \"wb\") as file:\n",
    "    pickle.dump(scaler, file)\n"
   ]
  },
  {
   "cell_type": "code",
   "execution_count": 274,
   "id": "e50d76ab",
   "metadata": {},
   "outputs": [],
   "source": [
    "best_model = grid_knn.best_estimator_"
   ]
  },
  {
   "cell_type": "code",
   "execution_count": 275,
   "id": "ac3dad8e",
   "metadata": {},
   "outputs": [],
   "source": [
    "with open(\"best_model.pkl\", \"wb\") as file:\n",
    "    pickle.dump(best_model, file)"
   ]
  },
  {
   "cell_type": "code",
   "execution_count": null,
   "id": "1ab33b6c",
   "metadata": {},
   "outputs": [],
   "source": []
  }
 ],
 "metadata": {
  "kernelspec": {
   "display_name": "base",
   "language": "python",
   "name": "python3"
  },
  "language_info": {
   "codemirror_mode": {
    "name": "ipython",
    "version": 3
   },
   "file_extension": ".py",
   "mimetype": "text/x-python",
   "name": "python",
   "nbconvert_exporter": "python",
   "pygments_lexer": "ipython3",
   "version": "3.11.7"
  }
 },
 "nbformat": 4,
 "nbformat_minor": 5
}
